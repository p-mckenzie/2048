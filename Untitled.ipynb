{
 "cells": [
  {
   "cell_type": "code",
   "execution_count": 1,
   "metadata": {},
   "outputs": [],
   "source": [
    "from simulator import MonteCarloGameDriver\n",
    "\n",
    "driver = MonteCarloGameDriver()"
   ]
  },
  {
   "cell_type": "code",
   "execution_count": null,
   "metadata": {},
   "outputs": [
    {
     "name": "stdout",
     "output_type": "stream",
     "text": [
      "After 5 simulations, achieved max tile 512 and score 6272\n",
      "After 5 simulations, achieved max tile 512 and score 6272\n",
      "After 5 simulations, achieved max tile 256 and score 3116\n",
      "After 5 simulations, achieved max tile 512 and score 6400\n",
      "After 5 simulations, achieved max tile 256 and score 3156\n",
      "After 5 simulations, achieved max tile 512 and score 5368\n",
      "After 5 simulations, achieved max tile 256 and score 3096\n",
      "After 5 simulations, achieved max tile 512 and score 5308\n",
      "After 5 simulations, achieved max tile 256 and score 2816\n",
      "After 5 simulations, achieved max tile 512 and score 5436\n",
      "After 20 simulations, achieved max tile 1024 and score 15816\n",
      "After 20 simulations, achieved max tile 2048 and score 25184\n",
      "After 20 simulations, achieved max tile 1024 and score 15520\n",
      "After 20 simulations, achieved max tile 512 and score 6920\n",
      "After 20 simulations, achieved max tile 512 and score 5352\n",
      "After 20 simulations, achieved max tile 512 and score 4544\n",
      "After 20 simulations, achieved max tile 1024 and score 12496\n",
      "After 20 simulations, achieved max tile 128 and score 1304\n",
      "After 20 simulations, achieved max tile 128 and score 1368\n",
      "After 20 simulations, achieved max tile 512 and score 4368\n",
      "After 50 simulations, achieved max tile 2048 and score 27440\n",
      "After 50 simulations, achieved max tile 2048 and score 32288\n",
      "After 50 simulations, achieved max tile 1024 and score 16128\n",
      "After 50 simulations, achieved max tile 1024 and score 15992\n",
      "After 50 simulations, achieved max tile 1024 and score 15124\n",
      "After 50 simulations, achieved max tile 2048 and score 23264\n",
      "After 50 simulations, achieved max tile 2048 and score 32236\n",
      "After 50 simulations, achieved max tile 2048 and score 32216\n",
      "After 50 simulations, achieved max tile 2048 and score 23184\n",
      "After 50 simulations, achieved max tile 1024 and score 16372\n",
      "After 100 simulations, achieved max tile 512 and score 7012\n"
     ]
    }
   ],
   "source": [
    "for size in [5,20,50,100]:\n",
    "    for i in range(10):\n",
    "        driver.run_game(simulation_size=size)"
   ]
  },
  {
   "cell_type": "code",
   "execution_count": null,
   "metadata": {},
   "outputs": [],
   "source": [
    "print('hello')"
   ]
  }
 ],
 "metadata": {
  "kernelspec": {
   "display_name": "Python 3",
   "language": "python",
   "name": "python3"
  },
  "language_info": {
   "codemirror_mode": {
    "name": "ipython",
    "version": 3
   },
   "file_extension": ".py",
   "mimetype": "text/x-python",
   "name": "python",
   "nbconvert_exporter": "python",
   "pygments_lexer": "ipython3",
   "version": "3.7.3"
  }
 },
 "nbformat": 4,
 "nbformat_minor": 2
}
