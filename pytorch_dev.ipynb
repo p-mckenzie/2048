{
 "cells": [
  {
   "cell_type": "code",
   "execution_count": 1,
   "metadata": {},
   "outputs": [],
   "source": [
    "# control random processes\n",
    "import torch\n",
    "torch.manual_seed(1)\n",
    "import numpy as np\n",
    "np.random.seed(1)"
   ]
  },
  {
   "cell_type": "code",
   "execution_count": 2,
   "metadata": {},
   "outputs": [],
   "source": [
    "from network import NeuralNetwork"
   ]
  },
  {
   "cell_type": "code",
   "execution_count": 3,
   "metadata": {},
   "outputs": [],
   "source": [
    "network = NeuralNetwork()"
   ]
  },
  {
   "cell_type": "code",
   "execution_count": 4,
   "metadata": {},
   "outputs": [
    {
     "name": "stdout",
     "output_type": "stream",
     "text": [
      "0.1389 0.0454 81\n"
     ]
    }
   ],
   "source": [
    "network.train(game_type='mini_iterative', game_penalty_type='scores', random_games=True, test=True)"
   ]
  },
  {
   "cell_type": "code",
   "execution_count": null,
   "metadata": {},
   "outputs": [],
   "source": [
    "import pandas as pd\n",
    "# mini-iterative, random_games=True, 5 hours\n",
    "before = pd.DataFrame([[ 16,   0],\n",
    " [  32,   32],\n",
    " [  64,  351],\n",
    " [ 128, 1020],\n",
    " [ 256,  556],\n",
    " [ 512,   41]])\n",
    "\n",
    "\n",
    "\n",
    "after = pd.DataFrame([[ 16,   1],\n",
    " [ 32,  20],\n",
    " [ 64, 236],\n",
    " [128, 758],\n",
    " [256, 910],\n",
    " [512,  75]])\n",
    "\n",
    "import matplotlib.pyplot as plt\n",
    "\n",
    "fig, (ax1, ax2) = plt.subplots(2,1, sharex=True, sharey=True)\n",
    "\n",
    "ax1.bar(before[0].astype(str), before[1])\n",
    "ax1.set_ylabel('Before')\n",
    "\n",
    "ax2.bar(after[0].astype(str), after[1])\n",
    "ax2.set_ylabel('After')\n",
    "\n",
    "fig.suptitle('Number of games reaching tile value,\\nbefore and after training')\n",
    "\n",
    "fig.show()"
   ]
  },
  {
   "cell_type": "code",
   "execution_count": null,
   "metadata": {},
   "outputs": [],
   "source": [
    "import matplotlib.pyplot as plt\n",
    "\n",
    "plt.plot([x for x in network.model.scores[256] if x!=0])\n",
    "plt.show()"
   ]
  },
  {
   "cell_type": "code",
   "execution_count": null,
   "metadata": {},
   "outputs": [],
   "source": [
    "params = {'game_type':['full', 'mini_iterative', 'mini_random'],\n",
    "         'random_games':[False, True],\n",
    "         'random_frac':[None, np.random.uniform(0, 1)],\n",
    "         'batch_size':10,\n",
    "          'lr':0.001,\n",
    "         'move_penalty_type':[None,'nonzero','linear_move_num','exponential_move_num'],\n",
    "         'game_penalty_type':[None,'scores','max','log2_max','tile_sums']}"
   ]
  },
  {
   "cell_type": "code",
   "execution_count": null,
   "metadata": {},
   "outputs": [],
   "source": [
    "# test parameter combinations\n",
    "\n",
    "for game_type in params['game_type']:\n",
    "    for random_games in params['random_games']:\n",
    "        for random_frac in params['random_frac']:\n",
    "            for move_penalty_type in params['move_penalty_type']:\n",
    "                for game_penalty_type in params['game_penalty_type']:\n",
    "                    network.train(test=True, duration=1/60000,\n",
    "                                 game_type=game_type, random_games=random_games, random_frac=random_frac,\n",
    "                                 move_penalty_type=move_penalty_type, game_penalty_type=game_penalty_type)"
   ]
  }
 ],
 "metadata": {
  "kernelspec": {
   "display_name": "Python 3",
   "language": "python",
   "name": "python3"
  },
  "language_info": {
   "codemirror_mode": {
    "name": "ipython",
    "version": 3
   },
   "file_extension": ".py",
   "mimetype": "text/x-python",
   "name": "python",
   "nbconvert_exporter": "python",
   "pygments_lexer": "ipython3",
   "version": "3.6.5"
  }
 },
 "nbformat": 4,
 "nbformat_minor": 2
}
