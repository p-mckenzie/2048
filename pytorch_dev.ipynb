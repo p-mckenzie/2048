{
 "cells": [
  {
   "cell_type": "code",
   "execution_count": 1,
   "metadata": {},
   "outputs": [],
   "source": [
    "# control random processes\n",
    "import torch\n",
    "torch.manual_seed(1)\n",
    "import numpy as np\n",
    "np.random.seed(1)\n",
    "\n",
    "from network import NeuralNetwork"
   ]
  },
  {
   "cell_type": "code",
   "execution_count": 5,
   "metadata": {},
   "outputs": [
    {
     "name": "stdout",
     "output_type": "stream",
     "text": [
      "1079.66\n",
      "[[ 16   6]\n",
      " [ 32 150]\n",
      " [ 64 727]\n",
      " [128 982]\n",
      " [256 134]\n",
      " [512   1]]\n"
     ]
    }
   ],
   "source": [
    "import baseline"
   ]
  },
  {
   "cell_type": "code",
   "execution_count": 5,
   "metadata": {},
   "outputs": [
    {
     "name": "stdout",
     "output_type": "stream",
     "text": [
      "Final average scores: 85.72\n"
     ]
    }
   ],
   "source": [
    "network = NeuralNetwork()\n",
    "network.train(duration=2, game_penalty_type='scores', cutoff=20, batch_size=200, forget_after=40)"
   ]
  },
  {
   "cell_type": "code",
   "execution_count": 6,
   "metadata": {},
   "outputs": [
    {
     "data": {
      "image/png": "[encoded data removed]",
      "text/plain": [
       "<Figure size 432x288 with 1 Axes>"
      ]
     },
     "metadata": {
      "needs_background": "light"
     },
     "output_type": "display_data"
    }
   ],
   "source": [
    "import matplotlib.pyplot as plt\n",
    "\n",
    "plt.plot(network.model.evaluation)\n",
    "plt.show()"
   ]
  },
  {
   "cell_type": "code",
   "execution_count": 12,
   "metadata": {},
   "outputs": [],
   "source": [
    "game_rank_values = np.array([12,15,18])"
   ]
  },
  {
   "cell_type": "code",
   "execution_count": 13,
   "metadata": {},
   "outputs": [],
   "source": [
    "maxes = np.repeat(game_rank_values.max(), game_rank_values.shape)\n",
    "maxes[game_rank_values<=np.median(game_rank_values)] = game_rank_values.min()\n",
    "maxes = np.absolute(maxes-np.median(game_rank_values))\n",
    "final_penalties = np.nan_to_num((game_rank_values-np.median(game_rank_values))/maxes)"
   ]
  },
  {
   "cell_type": "code",
   "execution_count": 14,
   "metadata": {},
   "outputs": [
    {
     "data": {
      "text/plain": [
       "array([-1.,  0.,  1.])"
      ]
     },
     "execution_count": 14,
     "metadata": {},
     "output_type": "execute_result"
    }
   ],
   "source": [
    "final_penalties"
   ]
  },
  {
   "cell_type": "code",
   "execution_count": 18,
   "metadata": {},
   "outputs": [],
   "source": [
    "mask = final_penalties<0\n",
    "mask = torch.from_numpy(mask).nonzero().flatten()"
   ]
  },
  {
   "cell_type": "code",
   "execution_count": 19,
   "metadata": {},
   "outputs": [
    {
     "data": {
      "text/plain": [
       "tensor([0])"
      ]
     },
     "execution_count": 19,
     "metadata": {},
     "output_type": "execute_result"
    }
   ],
   "source": [
    "mask"
   ]
  },
  {
   "cell_type": "code",
   "execution_count": 3,
   "metadata": {},
   "outputs": [
    {
     "name": "stdout",
     "output_type": "stream",
     "text": [
      "None\n",
      "Final average scores: 1100.84\n",
      "nonzero\n",
      "Final average scores: 1101.13\n",
      "linear_move_num\n",
      "Final average scores: 1108.38\n",
      "exponential_move_num\n",
      "Final average scores: 1112.41\n"
     ]
    }
   ],
   "source": [
    "for move_penalty in [None,'nonzero','linear_move_num','exponential_move_num']:\n",
    "    print(move_penalty)\n",
    "    network = NeuralNetwork()\n",
    "    network.train(duration=.5, move_penalty_type=move_penalty)"
   ]
  },
  {
   "cell_type": "code",
   "execution_count": null,
   "metadata": {},
   "outputs": [],
   "source": [
    "for game_penalty in ['scores','max','log2_max','tile_sums']:\n",
    "    print(game_penalty)\n",
    "    network = NeuralNetwork()\n",
    "    network.train(duration=.5, move_penalty_type='exponential_move_num',\n",
    "                 game_penalty_type=game_penalty)\n",
    "    \n",
    "'''\n",
    "scores\n",
    "Final average scores: 1092.2\n",
    "max\n",
    "Final average scores: 1090.03\n",
    "log2_max\n",
    "Final average scores: 1100.5\n",
    "tile_sums\n",
    "Final average scores: 1094.5\n",
    "'''"
   ]
  },
  {
   "cell_type": "code",
   "execution_count": null,
   "metadata": {},
   "outputs": [],
   "source": [
    "for forget_interval in [10,50,110]:\n",
    "    print(forget_interval)\n",
    "    network = NeuralNetwork()\n",
    "    network.train(duration=1, move_penalty_type='exponential_move_num',\n",
    "                  game_penalty_type='scores', forget_after=forget_interval)\n",
    "    \n",
    "'''\n",
    "10\n",
    "Final average scores: 1102.82\n",
    "50\n",
    "Final average scores: 1086.96\n",
    "110\n",
    "Final average scores: 1093.88\n",
    "'''"
   ]
  },
  {
   "cell_type": "code",
   "execution_count": null,
   "metadata": {},
   "outputs": [],
   "source": [
    "for game_penalty in ['scores','max','log2_max','tile_sums']:\n",
    "    for learning_rate in [.001, .01, .05]:\n",
    "        print(game_penalty, learning_rate)\n",
    "        network = NeuralNetwork()\n",
    "        network.train(duration=.5, move_penalty_type='exponential_move_num',\n",
    "                 game_penalty_type=game_penalty, lr=learning_rate)\n",
    "        \n",
    "'''\n",
    "scores 0.001\n",
    "Final average scores: 1087.01\n",
    "scores 0.01\n",
    "Final average scores: 1111.22\n",
    "scores 0.05\n",
    "Final average scores: 1084.33\n",
    "max 0.001\n",
    "Final average scores: 1075.7\n",
    "max 0.01\n",
    "'''"
   ]
  },
  {
   "cell_type": "code",
   "execution_count": 4,
   "metadata": {},
   "outputs": [
    {
     "name": "stdout",
     "output_type": "stream",
     "text": [
      "Final average scores: 1080.51\n",
      "Final average scores: 1097.18\n"
     ]
    }
   ],
   "source": [
    "for game_penalty in ['scores','tile_sums']:\n",
    "    network = NeuralNetwork()\n",
    "    network.train(duration=.5, move_penalty_type='exponential_move_num',\n",
    "                     game_penalty_type=game_penalty, lr=0.01, batch_size=10)"
   ]
  },
  {
   "cell_type": "code",
   "execution_count": 5,
   "metadata": {},
   "outputs": [
    {
     "name": "stdout",
     "output_type": "stream",
     "text": [
      "scores\n",
      "Final average scores: 1092.23\n",
      "tile_sums\n",
      "Final average scores: 1111.33\n"
     ]
    }
   ],
   "source": [
    "for game_penalty in ['scores','tile_sums']:\n",
    "    print(game_penalty)\n",
    "    network = NeuralNetwork()\n",
    "    network.train(duration=2, move_penalty_type='exponential_move_num',\n",
    "                     game_penalty_type=game_penalty, lr=0.01, batch_size=10)"
   ]
  },
  {
   "cell_type": "code",
   "execution_count": 21,
   "metadata": {},
   "outputs": [
    {
     "ename": "KeyboardInterrupt",
     "evalue": "",
     "output_type": "error",
     "traceback": [
      "\u001b[1;31m---------------------------------------------------------------------------\u001b[0m",
      "\u001b[1;31mKeyboardInterrupt\u001b[0m                         Traceback (most recent call last)",
      "\u001b[1;32m<ipython-input-21-dca6cd1ec12e>\u001b[0m in \u001b[0;36m<module>\u001b[1;34m\u001b[0m\n\u001b[0;32m      1\u001b[0m \u001b[0mnetwork\u001b[0m \u001b[1;33m=\u001b[0m \u001b[0mNeuralNetwork\u001b[0m\u001b[1;33m(\u001b[0m\u001b[1;33m)\u001b[0m\u001b[1;33m\u001b[0m\u001b[1;33m\u001b[0m\u001b[0m\n\u001b[0;32m      2\u001b[0m network.train(duration=1, move_penalty_type='exponential_move_num',\n\u001b[1;32m----> 3\u001b[1;33m              game_penalty_type='tile_sums', lr=0.01, batch_size=100, forget_after=100)\n\u001b[0m",
      "\u001b[1;32m~\\Documents\\2048\\network.py\u001b[0m in \u001b[0;36mtrain\u001b[1;34m(self, lr, duration, random_games, random_frac, batch_size, move_penalty_type, game_penalty_type, test, num_games, forget_after)\u001b[0m\n\u001b[0;32m    168\u001b[0m             output = loss(weighted_y,\n\u001b[0;32m    169\u001b[0m                          weighted_yhat)\n\u001b[1;32m--> 170\u001b[1;33m             \u001b[0moutput\u001b[0m\u001b[1;33m.\u001b[0m\u001b[0mbackward\u001b[0m\u001b[1;33m(\u001b[0m\u001b[0mretain_graph\u001b[0m\u001b[1;33m=\u001b[0m\u001b[1;32mTrue\u001b[0m\u001b[1;33m)\u001b[0m\u001b[1;33m\u001b[0m\u001b[1;33m\u001b[0m\u001b[0m\n\u001b[0m\u001b[0;32m    171\u001b[0m             \u001b[0mopt\u001b[0m\u001b[1;33m.\u001b[0m\u001b[0mstep\u001b[0m\u001b[1;33m(\u001b[0m\u001b[1;33m)\u001b[0m\u001b[1;33m\u001b[0m\u001b[1;33m\u001b[0m\u001b[0m\n\u001b[0;32m    172\u001b[0m             \u001b[0mopt\u001b[0m\u001b[1;33m.\u001b[0m\u001b[0mzero_grad\u001b[0m\u001b[1;33m(\u001b[0m\u001b[1;33m)\u001b[0m\u001b[1;33m\u001b[0m\u001b[1;33m\u001b[0m\u001b[0m\n",
      "\u001b[1;32m~\\AppData\\Local\\Continuum\\anaconda3\\lib\\site-packages\\torch\\tensor.py\u001b[0m in \u001b[0;36mbackward\u001b[1;34m(self, gradient, retain_graph, create_graph)\u001b[0m\n\u001b[0;32m    193\u001b[0m                 \u001b[0mproducts\u001b[0m\u001b[1;33m.\u001b[0m \u001b[0mDefaults\u001b[0m \u001b[0mto\u001b[0m\u001b[0;31m \u001b[0m\u001b[0;31m`\u001b[0m\u001b[0;31m`\u001b[0m\u001b[1;32mFalse\u001b[0m\u001b[0;31m`\u001b[0m\u001b[0;31m`\u001b[0m\u001b[1;33m.\u001b[0m\u001b[1;33m\u001b[0m\u001b[1;33m\u001b[0m\u001b[0m\n\u001b[0;32m    194\u001b[0m         \"\"\"\n\u001b[1;32m--> 195\u001b[1;33m         \u001b[0mtorch\u001b[0m\u001b[1;33m.\u001b[0m\u001b[0mautograd\u001b[0m\u001b[1;33m.\u001b[0m\u001b[0mbackward\u001b[0m\u001b[1;33m(\u001b[0m\u001b[0mself\u001b[0m\u001b[1;33m,\u001b[0m \u001b[0mgradient\u001b[0m\u001b[1;33m,\u001b[0m \u001b[0mretain_graph\u001b[0m\u001b[1;33m,\u001b[0m \u001b[0mcreate_graph\u001b[0m\u001b[1;33m)\u001b[0m\u001b[1;33m\u001b[0m\u001b[1;33m\u001b[0m\u001b[0m\n\u001b[0m\u001b[0;32m    196\u001b[0m \u001b[1;33m\u001b[0m\u001b[0m\n\u001b[0;32m    197\u001b[0m     \u001b[1;32mdef\u001b[0m \u001b[0mregister_hook\u001b[0m\u001b[1;33m(\u001b[0m\u001b[0mself\u001b[0m\u001b[1;33m,\u001b[0m \u001b[0mhook\u001b[0m\u001b[1;33m)\u001b[0m\u001b[1;33m:\u001b[0m\u001b[1;33m\u001b[0m\u001b[1;33m\u001b[0m\u001b[0m\n",
      "\u001b[1;32m~\\AppData\\Local\\Continuum\\anaconda3\\lib\\site-packages\\torch\\autograd\\__init__.py\u001b[0m in \u001b[0;36mbackward\u001b[1;34m(tensors, grad_tensors, retain_graph, create_graph, grad_variables)\u001b[0m\n\u001b[0;32m     97\u001b[0m     Variable._execution_engine.run_backward(\n\u001b[0;32m     98\u001b[0m         \u001b[0mtensors\u001b[0m\u001b[1;33m,\u001b[0m \u001b[0mgrad_tensors\u001b[0m\u001b[1;33m,\u001b[0m \u001b[0mretain_graph\u001b[0m\u001b[1;33m,\u001b[0m \u001b[0mcreate_graph\u001b[0m\u001b[1;33m,\u001b[0m\u001b[1;33m\u001b[0m\u001b[1;33m\u001b[0m\u001b[0m\n\u001b[1;32m---> 99\u001b[1;33m         allow_unreachable=True)  # allow_unreachable flag\n\u001b[0m\u001b[0;32m    100\u001b[0m \u001b[1;33m\u001b[0m\u001b[0m\n\u001b[0;32m    101\u001b[0m \u001b[1;33m\u001b[0m\u001b[0m\n",
      "\u001b[1;31mKeyboardInterrupt\u001b[0m: "
     ]
    }
   ],
   "source": [
    "network = NeuralNetwork()\n",
    "network.train(duration=1, move_penalty_type='exponential_move_num',\n",
    "             game_penalty_type='tile_sums', lr=0.01, batch_size=100, forget_after=100)"
   ]
  },
  {
   "cell_type": "code",
   "execution_count": null,
   "metadata": {},
   "outputs": [],
   "source": [
    "for move_penalty in ['nonzero','linear_move_num']:\n",
    "    for i in range(4):\n",
    "        print(move_penalty, i)\n",
    "        network = NeuralNetwork()\n",
    "        network.train(duration=.5, move_penalty_type=move_penalty,\n",
    "                 game_penalty_type='scores', lr=0.01)\n",
    "        \n",
    "'''\n",
    "nonzero 0\n",
    "1089.8649333333335\n",
    "nonzero 1\n",
    "1092.2149333333334\n",
    "nonzero 2\n",
    "1097.7331333333332\n",
    "nonzero 3\n",
    "1106.5646\n",
    "linear_move_num 0\n",
    "1076.3795333333333\n",
    "linear_move_num 1\n",
    "1080.4103333333333\n",
    "linear_move_num 2\n",
    "1083.9425999999999\n",
    "linear_move_num 3\n",
    "1103.7242666666666\n",
    "'''"
   ]
  }
 ],
 "metadata": {
  "kernelspec": {
   "display_name": "Python 3",
   "language": "python",
   "name": "python3"
  },
  "language_info": {
   "codemirror_mode": {
    "name": "ipython",
    "version": 3
   },
   "file_extension": ".py",
   "mimetype": "text/x-python",
   "name": "python",
   "nbconvert_exporter": "python",
   "pygments_lexer": "ipython3",
   "version": "3.7.3"
  }
 },
 "nbformat": 4,
 "nbformat_minor": 2
}
