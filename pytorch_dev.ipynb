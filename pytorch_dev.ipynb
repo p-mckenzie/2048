{
 "cells": [
  {
   "cell_type": "code",
   "execution_count": 1,
   "metadata": {},
   "outputs": [],
   "source": [
    "import numpy as np\n",
    "import matplotlib.pyplot as plt\n",
    "\n",
    "np.random.seed(1)\n",
    "\n",
    "import torch\n",
    "from torch import optim\n",
    "from torch import nn\n",
    "\n",
    "torch.manual_seed(1)\n",
    "\n",
    "import time\n",
    "\n",
    "# actual game\n",
    "from helper import GameDriver"
   ]
  },
  {
   "cell_type": "code",
   "execution_count": 2,
   "metadata": {},
   "outputs": [],
   "source": [
    "inputSize = 16; outputSize = 4; neuronCountJ = 200; neuronCountK = 100; neuronCountL = 50\n",
    "\n",
    "model = nn.Sequential(nn.Linear(inputSize, neuronCountJ),\n",
    "                       nn.ReLU(), \n",
    "                       nn.Linear(neuronCountJ, neuronCountK),\n",
    "                       nn.ReLU(),\n",
    "                       nn.Linear(neuronCountK, neuronCountL),\n",
    "                       nn.ReLU(),\n",
    "                       nn.Linear(neuronCountL, outputSize),\n",
    "                       nn.Softmax(dim=1),\n",
    "                     )\n",
    "\n",
    "#model.load_state_dict(torch.load('C:\\\\Users\\\\mpaige\\\\Documents\\\\2048\\\\model.pt'))"
   ]
  },
  {
   "cell_type": "code",
   "execution_count": 3,
   "metadata": {},
   "outputs": [],
   "source": [
    "opt = optim.SGD(model.parameters(), lr=0.1)"
   ]
  },
  {
   "cell_type": "code",
   "execution_count": 4,
   "metadata": {},
   "outputs": [
    {
     "data": {
      "text/plain": [
       "tensor(-6.6785, grad_fn=<SumBackward0>)"
      ]
     },
     "execution_count": 4,
     "metadata": {},
     "output_type": "execute_result"
    }
   ],
   "source": [
    "list(model.parameters())[0].sum()"
   ]
  },
  {
   "cell_type": "code",
   "execution_count": 5,
   "metadata": {},
   "outputs": [],
   "source": [
    "loss = nn.SmoothL1Loss()\n",
    "scores = []"
   ]
  },
  {
   "cell_type": "code",
   "execution_count": 11,
   "metadata": {
    "scrolled": true
   },
   "outputs": [
    {
     "name": "stdout",
     "output_type": "stream",
     "text": [
      "Will end at: Tue Oct 15 22:11:18 2019\n",
      "tensor(-6.6809, grad_fn=<SumBackward0>) tensor(0.0237, grad_fn=<StdBackward0>)\n",
      "tensor(-6.6783, grad_fn=<SumBackward0>) tensor(0.0231, grad_fn=<StdBackward0>)\n",
      "tensor(-6.6755, grad_fn=<SumBackward0>) tensor(0.0228, grad_fn=<StdBackward0>)\n",
      "tensor(-6.6723, grad_fn=<SumBackward0>) tensor(0.0224, grad_fn=<StdBackward0>)\n",
      "tensor(-6.6686, grad_fn=<SumBackward0>) tensor(0.0235, grad_fn=<StdBackward0>)\n",
      "tensor(-6.6646, grad_fn=<SumBackward0>) tensor(0.0207, grad_fn=<StdBackward0>)\n",
      "tensor(-6.6606, grad_fn=<SumBackward0>) tensor(0.0219, grad_fn=<StdBackward0>)\n",
      "tensor(-6.6560, grad_fn=<SumBackward0>) tensor(0.0211, grad_fn=<StdBackward0>)\n",
      "tensor(-6.6513, grad_fn=<SumBackward0>) tensor(0.0209, grad_fn=<StdBackward0>)\n",
      "tensor(-6.6460, grad_fn=<SumBackward0>) tensor(0.0214, grad_fn=<StdBackward0>)\n",
      "tensor(-6.6407, grad_fn=<SumBackward0>) tensor(0.0193, grad_fn=<StdBackward0>)\n",
      "tensor(-6.6348, grad_fn=<SumBackward0>) tensor(0.0219, grad_fn=<StdBackward0>)\n",
      "tensor(-6.6292, grad_fn=<SumBackward0>) tensor(0.0209, grad_fn=<StdBackward0>)\n",
      "tensor(-6.6226, grad_fn=<SumBackward0>) tensor(0.0228, grad_fn=<StdBackward0>)\n",
      "tensor(-6.6161, grad_fn=<SumBackward0>) tensor(0.0201, grad_fn=<StdBackward0>)\n",
      "tensor(-6.6093, grad_fn=<SumBackward0>) tensor(0.0226, grad_fn=<StdBackward0>)\n",
      "tensor(-6.6024, grad_fn=<SumBackward0>) tensor(0.0216, grad_fn=<StdBackward0>)\n",
      "tensor(-6.5948, grad_fn=<SumBackward0>) tensor(0.0213, grad_fn=<StdBackward0>)\n",
      "tensor(-6.5874, grad_fn=<SumBackward0>) tensor(0.0215, grad_fn=<StdBackward0>)\n",
      "tensor(-6.5798, grad_fn=<SumBackward0>) tensor(0.0205, grad_fn=<StdBackward0>)\n",
      "tensor(-6.5714, grad_fn=<SumBackward0>) tensor(0.0230, grad_fn=<StdBackward0>)\n",
      "tensor(-6.5633, grad_fn=<SumBackward0>) tensor(0.0233, grad_fn=<StdBackward0>)\n",
      "tensor(-6.5551, grad_fn=<SumBackward0>) tensor(0.0216, grad_fn=<StdBackward0>)\n",
      "tensor(-6.5464, grad_fn=<SumBackward0>) tensor(0.0234, grad_fn=<StdBackward0>)\n",
      "tensor(-6.5375, grad_fn=<SumBackward0>) tensor(0.0218, grad_fn=<StdBackward0>)\n",
      "tensor(-6.5281, grad_fn=<SumBackward0>) tensor(0.0216, grad_fn=<StdBackward0>)\n",
      "tensor(-6.5188, grad_fn=<SumBackward0>) tensor(0.0243, grad_fn=<StdBackward0>)\n",
      "tensor(-6.5093, grad_fn=<SumBackward0>) tensor(0.0237, grad_fn=<StdBackward0>)\n",
      "tensor(-6.4997, grad_fn=<SumBackward0>) tensor(0.0231, grad_fn=<StdBackward0>)\n",
      "tensor(-6.4898, grad_fn=<SumBackward0>) tensor(0.0247, grad_fn=<StdBackward0>)\n",
      "tensor(-6.4795, grad_fn=<SumBackward0>) tensor(0.0246, grad_fn=<StdBackward0>)\n",
      "tensor(-6.4682, grad_fn=<SumBackward0>) tensor(0.0246, grad_fn=<StdBackward0>)\n",
      "tensor(-6.4577, grad_fn=<SumBackward0>) tensor(0.0258, grad_fn=<StdBackward0>)\n",
      "tensor(-6.4466, grad_fn=<SumBackward0>) tensor(0.0260, grad_fn=<StdBackward0>)\n",
      "tensor(-6.4356, grad_fn=<SumBackward0>) tensor(0.0266, grad_fn=<StdBackward0>)\n",
      "tensor(-6.4244, grad_fn=<SumBackward0>) tensor(0.0277, grad_fn=<StdBackward0>)\n",
      "tensor(-6.4128, grad_fn=<SumBackward0>) tensor(0.0281, grad_fn=<StdBackward0>)\n",
      "tensor(-6.4007, grad_fn=<SumBackward0>) tensor(0.0267, grad_fn=<StdBackward0>)\n",
      "tensor(-6.3885, grad_fn=<SumBackward0>) tensor(0.0281, grad_fn=<StdBackward0>)\n",
      "tensor(-6.3767, grad_fn=<SumBackward0>) tensor(0.0287, grad_fn=<StdBackward0>)\n",
      "tensor(-6.3641, grad_fn=<SumBackward0>) tensor(0.0293, grad_fn=<StdBackward0>)\n",
      "tensor(-6.3508, grad_fn=<SumBackward0>) tensor(0.0296, grad_fn=<StdBackward0>)\n",
      "tensor(-6.3376, grad_fn=<SumBackward0>) tensor(0.0312, grad_fn=<StdBackward0>)\n",
      "tensor(-6.3243, grad_fn=<SumBackward0>) tensor(0.0295, grad_fn=<StdBackward0>)\n",
      "tensor(-6.3110, grad_fn=<SumBackward0>) tensor(0.0296, grad_fn=<StdBackward0>)\n",
      "tensor(-6.2975, grad_fn=<SumBackward0>) tensor(0.0309, grad_fn=<StdBackward0>)\n",
      "tensor(-6.2832, grad_fn=<SumBackward0>) tensor(0.0314, grad_fn=<StdBackward0>)\n",
      "tensor(-6.2687, grad_fn=<SumBackward0>) tensor(0.0315, grad_fn=<StdBackward0>)\n",
      "tensor(-6.2542, grad_fn=<SumBackward0>) tensor(0.0303, grad_fn=<StdBackward0>)\n",
      "tensor(-6.2391, grad_fn=<SumBackward0>) tensor(0.0329, grad_fn=<StdBackward0>)\n",
      "tensor(-6.2238, grad_fn=<SumBackward0>) tensor(0.0333, grad_fn=<StdBackward0>)\n",
      "tensor(-6.2088, grad_fn=<SumBackward0>) tensor(0.0336, grad_fn=<StdBackward0>)\n"
     ]
    }
   ],
   "source": [
    "end_time = time.time() + 60*30\n",
    "print('Will end at:', time.ctime(end_time))\n",
    "\n",
    "while time.time()<end_time:\n",
    "    # run the games\n",
    "    data = GameDriver()\n",
    "    data.run_games(10, method=lambda layout:model(torch.tensor(np.log2(np.where(layout==0, 1, layout)), dtype=torch.float).reshape(1,-1)).detach().numpy().flatten())\n",
    "    \n",
    "    '''\n",
    "    scores.append(data.final_scores.mean())\n",
    "    weighted_scores = -1*data.final_scores+data.final_scores.max()#(data.final_scores-data.final_scores.min())/data.final_scores.std()\n",
    "    weighted_scores = weighted_scores/weighted_scores.mean()\n",
    "    '''\n",
    "    \n",
    "    game_penalties = np.array([data.layouts[i][-1].max() for i in range(len(data.layouts))])\n",
    "    game_penalties = np.log2(game_penalties)\n",
    "    scores.append(game_penalties.mean())\n",
    "    game_penalties = (max(11, game_penalties.max())-game_penalties)/max(11, game_penalties.max())\n",
    "    \n",
    "    game_penalties = torch.tensor(np.concatenate([np.repeat(game_penalties[i], data.num_moves[i]) for i in range(len(data.num_moves))]), dtype=torch.float)[:, None]\n",
    "    move_weights = torch.tensor(np.concatenate([np.array([1-np.exp(-3*x) for x in np.linspace(0, 1, num=data.num_moves[i])]) for i in range(len(data.num_moves))]), dtype=torch.float)[:, None]\n",
    "    \n",
    "    x = np.concatenate(data.layouts)\n",
    "    x = torch.tensor(np.log2(np.where(x==0, 1, x)), dtype=torch.float)\n",
    "    \n",
    "    y_taken = torch.tensor(np.concatenate(data.moves), dtype=torch.float)\n",
    "    \n",
    "    '''\n",
    "    # randomly sample moves to train on subset of all moves\n",
    "    sample_indexes = list(RandomSampler(x, replacement=True, num_samples=1000))\n",
    "    \n",
    "    x = x[sample_indexes]\n",
    "    game_penalties = game_penalties[sample_indexes]\n",
    "    y_taken = y_taken[sample_indexes]\n",
    "    '''\n",
    "    \n",
    "    # run model and update parameters\n",
    "    y_hat = model(x)\n",
    "    \n",
    "    output = loss(move_weights*game_penalties*y_hat, move_weights*game_penalties*y_taken)\n",
    "    output.backward()\n",
    "\n",
    "    opt.step()\n",
    "    opt.zero_grad()\n",
    "    if len(scores)%50==0:\n",
    "        print(list(model.parameters())[0].sum(), y_hat.std())"
   ]
  },
  {
   "cell_type": "code",
   "execution_count": 14,
   "metadata": {},
   "outputs": [
    {
     "data": {
      "text/plain": [
       "[<matplotlib.lines.Line2D at 0x243b1b967b8>]"
      ]
     },
     "execution_count": 14,
     "metadata": {},
     "output_type": "execute_result"
    },
    {
     "data": {
      "image/png": "[encoded data removed]",
      "text/plain": [
       "<Figure size 432x288 with 1 Axes>"
      ]
     },
     "metadata": {},
     "output_type": "display_data"
    }
   ],
   "source": [
    "def moving_average(a, n=3) :\n",
    "    ret = np.cumsum(a, dtype=float)\n",
    "    ret[n:] = ret[n:] - ret[:-n]\n",
    "    return ret[n - 1:] / n\n",
    "\n",
    "plt.plot(moving_average(np.array(scores), 400))"
   ]
  },
  {
   "cell_type": "code",
   "execution_count": 13,
   "metadata": {},
   "outputs": [
    {
     "data": {
      "text/plain": [
       "array([[ 1.        , -0.01207315],\n",
       "       [-0.01207315,  1.        ]])"
      ]
     },
     "execution_count": 13,
     "metadata": {},
     "output_type": "execute_result"
    }
   ],
   "source": [
    "np.corrcoef(scores, range(len(scores)))"
   ]
  },
  {
   "cell_type": "code",
   "execution_count": 10,
   "metadata": {},
   "outputs": [],
   "source": [
    "#torch.save(model.state_dict(), 'C:\\\\Users\\\\mpaige\\\\Documents\\\\2048\\\\model2.pt')"
   ]
  }
 ],
 "metadata": {
  "kernelspec": {
   "display_name": "Python 3",
   "language": "python",
   "name": "python3"
  },
  "language_info": {
   "codemirror_mode": {
    "name": "ipython",
    "version": 3
   },
   "file_extension": ".py",
   "mimetype": "text/x-python",
   "name": "python",
   "nbconvert_exporter": "python",
   "pygments_lexer": "ipython3",
   "version": "3.6.5"
  }
 },
 "nbformat": 4,
 "nbformat_minor": 2
}
