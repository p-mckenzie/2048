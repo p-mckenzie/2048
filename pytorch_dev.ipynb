{
 "cells": [
  {
   "cell_type": "code",
   "execution_count": null,
   "metadata": {},
   "outputs": [],
   "source": [
    "import numpy as np\n",
    "import matplotlib.pyplot as plt\n",
    "\n",
    "np.random.seed(1)\n",
    "\n",
    "import torch\n",
    "from torch import optim\n",
    "from torch import nn\n",
    "from torch.utils.data import RandomSampler\n",
    "\n",
    "torch.manual_seed(1)\n",
    "\n",
    "import time\n",
    "\n",
    "# actual game\n",
    "from helper import GameData"
   ]
  },
  {
   "cell_type": "code",
   "execution_count": null,
   "metadata": {},
   "outputs": [],
   "source": [
    "inputSize = 16; outputSize = 4; neuronCountJ = 100; neuronCountK = 150\n",
    "\n",
    "model = nn.Sequential(nn.Linear(inputSize, neuronCountJ),\n",
    "                       nn.ReLU(), \n",
    "                       nn.Linear(neuronCountJ, neuronCountK),\n",
    "                       nn.ReLU(),\n",
    "                       nn.Linear(neuronCountK, outputSize),\n",
    "                       nn.Softmax(dim=1),\n",
    "                     )\n",
    "\n",
    "#model.load_state_dict(torch.load('C:\\\\Users\\\\mpaige\\\\Documents\\\\2048\\\\model.pt'))"
   ]
  },
  {
   "cell_type": "code",
   "execution_count": null,
   "metadata": {},
   "outputs": [],
   "source": [
    "opt = optim.SGD(model.parameters(), lr=0.01)"
   ]
  },
  {
   "cell_type": "code",
   "execution_count": null,
   "metadata": {},
   "outputs": [],
   "source": [
    "list(model.parameters())[0].sum()"
   ]
  },
  {
   "cell_type": "code",
   "execution_count": null,
   "metadata": {},
   "outputs": [],
   "source": [
    "loss = nn.L1Loss()\n",
    "scores = []"
   ]
  },
  {
   "cell_type": "code",
   "execution_count": null,
   "metadata": {
    "scrolled": true
   },
   "outputs": [],
   "source": [
    "end_time = time.time() + 60*60*4\n",
    "print('Will end at:', time.ctime(end_time))\n",
    "\n",
    "while time.time()<end_time:\n",
    "    # run the games\n",
    "    data = GameData(50, method=lambda layout:model(torch.tensor(layout/layout.sum(), dtype=torch.float).reshape(1,-1)).detach().numpy().flatten())\n",
    "    \n",
    "    scores.append(data.final_scores.mean())\n",
    "    \n",
    "    weighted_scores = -1*data.final_scores+data.final_scores.max()#(data.final_scores-data.final_scores.min())/data.final_scores.std()\n",
    "    weighted_scores = weighted_scores/weighted_scores.mean()\n",
    "    \n",
    "    game_penalties = torch.tensor(np.concatenate([np.repeat(weighted_scores[i], data.num_moves[i]) for i in range(len(data.num_moves))]), dtype=torch.float)[:, None]\n",
    "    #move_weights = torch.tensor(np.concatenate([np.array([1-np.exp(-3*x) for x in np.linspace(0, 1, num=data.num_moves[i])]) for i in range(len(data.num_moves))]), dtype=torch.float)[:, None]\n",
    "    \n",
    "    x = torch.tensor(np.concatenate(data.layouts), dtype=torch.float)\n",
    "    x = x/torch.sum(x, dim=1)[:, None]\n",
    "    \n",
    "    y_taken = torch.tensor(np.concatenate(data.moves), dtype=torch.float)\n",
    "    \n",
    "    # randomly sample moves to train on subset of all moves\n",
    "    sample_indexes = list(RandomSampler(x, replacement=True, num_samples=1000))\n",
    "    \n",
    "    x = x[sample_indexes]\n",
    "    game_penalties = game_penalties[sample_indexes]\n",
    "    y_taken = y_taken[sample_indexes]\n",
    "    \n",
    "    \n",
    "    # run model and update parameters\n",
    "    y_hat = model(x)\n",
    "    \n",
    "    output = loss(game_penalties*y_hat, game_penalties*y_taken)\n",
    "    output.backward()\n",
    "\n",
    "    opt.step()\n",
    "    opt.zero_grad()\n",
    "    if len(scores)%500==0:\n",
    "        print(list(model.parameters())[0].sum(), y_hat.std())"
   ]
  },
  {
   "cell_type": "code",
   "execution_count": null,
   "metadata": {},
   "outputs": [],
   "source": [
    "def moving_average(a, n=3) :\n",
    "    ret = np.cumsum(a, dtype=float)\n",
    "    ret[n:] = ret[n:] - ret[:-n]\n",
    "    return ret[n - 1:] / n\n",
    "\n",
    "plt.plot(moving_average(np.array(scores), 200))"
   ]
  },
  {
   "cell_type": "code",
   "execution_count": null,
   "metadata": {},
   "outputs": [],
   "source": [
    "np.corrcoef(scores, range(len(scores)))"
   ]
  },
  {
   "cell_type": "code",
   "execution_count": null,
   "metadata": {},
   "outputs": [],
   "source": [
    "#torch.save(model.state_dict(), 'C:\\\\Users\\\\mpaige\\\\Documents\\\\2048\\\\model2.pt')"
   ]
  }
 ],
 "metadata": {
  "kernelspec": {
   "display_name": "Python 3",
   "language": "python",
   "name": "python3"
  },
  "language_info": {
   "codemirror_mode": {
    "name": "ipython",
    "version": 3
   },
   "file_extension": ".py",
   "mimetype": "text/x-python",
   "name": "python",
   "nbconvert_exporter": "python",
   "pygments_lexer": "ipython3",
   "version": "3.7.1"
  }
 },
 "nbformat": 4,
 "nbformat_minor": 2
}
