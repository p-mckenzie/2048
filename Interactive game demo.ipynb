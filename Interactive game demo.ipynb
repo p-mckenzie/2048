{
 "cells": [
  {
   "cell_type": "markdown",
   "metadata": {},
   "source": [
    "# 2048 project by Paige McKenzie\n",
    "\n",
    "Includes code to generate all visualizations used in my [blog post](https://p-mckenzie.github.io/2018/03/12/Bachelor-finale/)."
   ]
  },
  {
   "cell_type": "code",
   "execution_count": 1,
   "metadata": {},
   "outputs": [],
   "source": [
    "import numpy as np\n",
    "import matplotlib.pyplot as plt\n",
    "\n",
    "### !!!!!!!!\n",
    "import ipywidgets as widgets\n",
    "from IPython.display import display, HTML\n",
    "from IPython.display import clear_output\n",
    "\n",
    "from game import GameLayout\n",
    "from helper import print_pretty"
   ]
  },
  {
   "cell_type": "code",
   "execution_count": 2,
   "metadata": {},
   "outputs": [],
   "source": [
    "text_input = widgets.Text(\n",
    "    value='',\n",
    "    placeholder='Enter a valid move',\n",
    "    description='w, a, s or d:',\n",
    "    disabled=False,\n",
    "    continuous_update=True\n",
    ")"
   ]
  },
  {
   "cell_type": "code",
   "execution_count": 3,
   "metadata": {},
   "outputs": [],
   "source": [
    "game = GameLayout()"
   ]
  },
  {
   "cell_type": "code",
   "execution_count": 4,
   "metadata": {},
   "outputs": [
    {
     "data": {
      "application/vnd.jupyter.widget-view+json": {
       "model_id": "f71d09255a544a85b5f4cb0637bf38be",
       "version_major": 2,
       "version_minor": 0
      },
      "text/plain": [
       "Output()"
      ]
     },
     "metadata": {},
     "output_type": "display_data"
    }
   ],
   "source": [
    "def on_entering_text(change):\n",
    "    if len(change['new'])>0:        \n",
    "        try:\n",
    "            game.swipe(change['new'])\n",
    "            with output:\n",
    "                clear_output()\n",
    "                print(\"Score:\", game.score)\n",
    "                display(HTML(print_pretty(game.layout)))\n",
    "        except AssertionError:\n",
    "            # game is over!\n",
    "            text_input.disabled = True\n",
    "            with output:\n",
    "                clear_output()\n",
    "                print(\"Final score:\", game.score)\n",
    "                display(HTML(print_pretty(game.layout)))\n",
    "                print(\"Game over!\")\n",
    "        except Exception as inst: # not a valid move\n",
    "            with output:\n",
    "                print(inst)\n",
    "        text_input.value = ''\n",
    "\n",
    "output = widgets.Output()\n",
    "with output:\n",
    "    print(\"Score:\", game.score)\n",
    "    display(HTML(print_pretty(game.layout)))\n",
    "\n",
    "text_input.observe(on_entering_text, names='value')\n",
    "display(output)"
   ]
  },
  {
   "cell_type": "code",
   "execution_count": 5,
   "metadata": {},
   "outputs": [
    {
     "data": {
      "application/vnd.jupyter.widget-view+json": {
       "model_id": "d396ed7401b34175b179ae358cea49a0",
       "version_major": 2,
       "version_minor": 0
      },
      "text/plain": [
       "Text(value='', description='w, a, s or d:', placeholder='Enter a valid move')"
      ]
     },
     "metadata": {},
     "output_type": "display_data"
    }
   ],
   "source": [
    "display(text_input)"
   ]
  }
 ],
 "metadata": {
  "kernelspec": {
   "display_name": "Python 3",
   "language": "python",
   "name": "python3"
  },
  "language_info": {
   "codemirror_mode": {
    "name": "ipython",
    "version": 3
   },
   "file_extension": ".py",
   "mimetype": "text/x-python",
   "name": "python",
   "nbconvert_exporter": "python",
   "pygments_lexer": "ipython3",
   "version": "3.6.5"
  }
 },
 "nbformat": 4,
 "nbformat_minor": 2
}
